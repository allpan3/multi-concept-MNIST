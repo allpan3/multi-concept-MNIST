{
 "cells": [
  {
   "cell_type": "code",
   "execution_count": null,
   "id": "00221b5a-4dfe-4dd2-9214-1737573e1b30",
   "metadata": {},
   "outputs": [],
   "source": [
    "%load_ext autoreload\n",
    "%autoreload 2\n",
    "%matplotlib inline"
   ]
  },
  {
   "cell_type": "code",
   "execution_count": null,
   "id": "730d4f9d",
   "metadata": {},
   "outputs": [],
   "source": [
    "# from main import get_vsa, get_similarity, get_test_data\n",
    "# import matplotlib.pyplot as plt\n",
    "\n",
    "# device = 'cuda'\n",
    "# vsa = get_vsa(device)\n",
    "# v1 = vsa.get_vector([(1,1,5,6),(2,0,2,5),(1,2,0,9)], quantize=True)\n",
    "# print(get_similarity(v1, vsa.get_vector((2,0,2,3)), True))\n",
    "# print(get_similarity(v1, vsa.get_vector((2,0,2,5)), True))\n",
    "# dl = get_test_data(vsa)\n",
    "# plt.imshow(dl.dataset[226][0])"
   ]
  },
  {
   "cell_type": "code",
   "execution_count": 1,
   "id": "a72e8eab",
   "metadata": {},
   "outputs": [
    {
     "name": "stdout",
     "output_type": "stream",
     "text": [
      "test 1 obj 100 dataset exists, loading...\n",
      "test 2 obj 100 dataset exists, loading...\n",
      "test 3 obj 100 dataset exists, loading...\n",
      "tensor([[-0.0054,  1.9841, -0.0191,  ..., -2.1270,  1.9476, -1.9726]],\n",
      "       grad_fn=<AddmmBackward0>)\n",
      "tensor([[ 0.,  2.,  0.,  ..., -2.,  2., -2.]])\n",
      "0.9846702100026725\n",
      "0.062209257519444325\n"
     ]
    }
   ],
   "source": [
    "from tools.model_quantization import *\n",
    "from datasets import get_test_data\n",
    "from models.nn_non_decomposed import MultiConceptNonDecomposed\n",
    "import torch\n",
    "import os.path\n",
    "\n",
    "root = \"/home/aifusenno1/multi-concept-MNIST/tests/HARDWARE-1024dim-256fd-3x-3y-7color/algo1\"\n",
    "pt = os.path.join(root, \"model_weights_3objs_128batch_20epoch_300000samples_0.0485loss_10-14-21-53.pt\")\n",
    "device = \"cuda\" if torch.cuda.is_available() else \"cpu\"\n",
    "model = MultiConceptNonDecomposed(dim=1024, device=device)\n",
    "model.eval()\n",
    "checkpoint = torch.load(pt, map_location=device)\n",
    "model.load_state_dict(checkpoint)\n",
    "\n",
    "dl = get_test_data(root, shuffle=True, num_samples=300, max_num_objects=3)\n",
    "test(model, dl, max_iter=100)\n"
   ]
  },
  {
   "cell_type": "code",
   "execution_count": 2,
   "id": "0b64c82e",
   "metadata": {},
   "outputs": [
    {
     "name": "stdout",
     "output_type": "stream",
     "text": [
      "tensor([[ 0.9244, -0.9811,  0.9973,  ..., -1.1247,  1.0231,  0.9139]],\n",
      "       grad_fn=<AddmmBackward0>)\n",
      "tensor([[ 1., -1.,  1.,  ..., -1.,  1.,  1.]])\n",
      "0.9819421201649279\n",
      "0.06821500729206986\n"
     ]
    }
   ],
   "source": [
    "merge_biases(model)\n",
    "remove_biases(model)\n",
    "test(model, dl, max_iter=100)"
   ]
  },
  {
   "cell_type": "code",
   "execution_count": 3,
   "id": "304bf363",
   "metadata": {},
   "outputs": [
    {
     "name": "stdout",
     "output_type": "stream",
     "text": [
      "tensor([[ 1.8389,  1.9942, -0.1733,  ..., -2.0256, -0.1640, -0.1240]],\n",
      "       grad_fn=<AddmmBackward0>)\n",
      "tensor([[ 2.,  2.,  0.,  ..., -2.,  0.,  0.]])\n",
      "0.9959002355537793\n",
      "0.036803408260779956\n"
     ]
    }
   ],
   "source": [
    "stop_profiling = register_activation_profiling_hooks(model)\n",
    "test(model, dl, max_iter=100)\n",
    "stop_profiling()"
   ]
  },
  {
   "cell_type": "code",
   "execution_count": 4,
   "id": "64035438",
   "metadata": {},
   "outputs": [],
   "source": [
    "quantize_layer_weights(model)\n",
    "quantize_activations(model)\n",
    "quantize_bottleneck_layers(model)\n",
    "quantize_averaging_layer(model)\n",
    "quantize_layer_biases(model)"
   ]
  },
  {
   "cell_type": "code",
   "execution_count": 5,
   "id": "f29b2887",
   "metadata": {},
   "outputs": [
    {
     "name": "stdout",
     "output_type": "stream",
     "text": [
      "tensor([[ 0.4688, -0.3750, -0.0234,  ...,  1.3359, -2.1094, -2.2734]],\n",
      "       grad_fn=<MulBackward0>)\n",
      "tensor([[ 1.,  1., -1.,  ...,  1., -1., -1.]])\n",
      "0.8127386517232598\n",
      "0.8986776949155448\n"
     ]
    }
   ],
   "source": [
    "test(model, dl, max_iter=100, quantized=True)"
   ]
  },
  {
   "cell_type": "code",
   "execution_count": null,
   "id": "10c5996b",
   "metadata": {},
   "outputs": [],
   "source": [
    "for c in model.model.modules():\n",
    "    print(c)"
   ]
  },
  {
   "cell_type": "code",
   "execution_count": null,
   "id": "b0d0279f",
   "metadata": {},
   "outputs": [],
   "source": []
  }
 ],
 "metadata": {
  "kernelspec": {
   "display_name": "Python 3 (ipykernel)",
   "language": "python",
   "name": "python3"
  },
  "language_info": {
   "codemirror_mode": {
    "name": "ipython",
    "version": 3
   },
   "file_extension": ".py",
   "mimetype": "text/x-python",
   "name": "python",
   "nbconvert_exporter": "python",
   "pygments_lexer": "ipython3",
   "version": "3.9.2"
  }
 },
 "nbformat": 4,
 "nbformat_minor": 5
}
