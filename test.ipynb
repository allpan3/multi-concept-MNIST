{
 "cells": [
  {
   "cell_type": "code",
   "execution_count": null,
   "id": "00221b5a-4dfe-4dd2-9214-1737573e1b30",
   "metadata": {},
   "outputs": [],
   "source": [
    "%load_ext autoreload\n",
    "%autoreload 2\n",
    "%matplotlib inline"
   ]
  },
  {
   "cell_type": "code",
   "execution_count": null,
   "id": "730d4f9d",
   "metadata": {},
   "outputs": [],
   "source": [
    "# from main import get_vsa, get_similarity, get_test_data\n",
    "# import matplotlib.pyplot as plt\n",
    "\n",
    "# device = 'cuda'\n",
    "# vsa = get_vsa(device)\n",
    "# v1 = vsa.get_vector([(1,1,5,6),(2,0,2,5),(1,2,0,9)], quantize=True)\n",
    "# print(get_similarity(v1, vsa.get_vector((2,0,2,3)), True))\n",
    "# print(get_similarity(v1, vsa.get_vector((2,0,2,5)), True))\n",
    "# dl = get_test_data(vsa)\n",
    "# plt.imshow(dl.dataset[226][0])"
   ]
  },
  {
   "cell_type": "code",
   "execution_count": null,
   "id": "a72e8eab",
   "metadata": {},
   "outputs": [],
   "source": [
    "from tools.model_quantization import *\n",
    "from datasets import get_test_data\n",
    "from models.nn_non_decomposed import MultiConceptNonDecomposed\n",
    "import torch\n",
    "import os.path\n",
    "from models.vsa import get_vsa\n",
    "from main import get_transform, get_cos_similarity, get_dot_similarity\n",
    "\n",
    "root = \"./tests/HARDWARE-2048dim-128fd-3x-3y-7color/algo1\"\n",
    "pt = os.path.join(root, \"model_weights_5objs_128batch_300000samples_20epoch_0.0182loss_11-07-06-14.pt\")\n",
    "# device = \"cuda\" if torch.cuda.is_available() else \"cpu\"\n",
    "device = \"cpu\"\n",
    "model = MultiConceptNonDecomposed(dim=2048, device=device)\n",
    "model.eval()    \n",
    "checkpoint = torch.load(pt, map_location=device)\n",
    "model.load_state_dict(checkpoint)\n",
    "vsa = get_vsa(dir=root, mode=\"HARDWARE\", algo=\"algo1\", dim=2048, fold_dim=128, ehd_bits=8, device=device)\n",
    "\n",
    "dl = get_test_data(root, vsa=vsa, shuffle=False, num_samples=1000, max_num_objects=5, single_count=True)\n",
    "image, label, target, _ = dl.dataset[237]\n",
    "infer_result = model(get_transform()(image.unsqueeze(0).to(device)))\n",
    "(infer_result.round() == target).all()\n",
    "\n",
    "for l in label:\n",
    "    print(f\"{l} cos:\", get_cos_similarity(target, vsa.get_vector([l])))\n",
    "    print(f\"{l} dot quantized:\", get_dot_similarity(target, vsa.get_vector([l]), quantized=False))\n",
    "    print(f\"{l} dot expand:\", torch.matmul(target.type(torch.float32), vsa.get_vector([l]).type(torch.float32)))\n",
    "\n",
    "v = (0,0,0,9)\n",
    "print(f\"{v} cos:\", get_cos_similarity(target, vsa.get_vector([v])))\n",
    "print(f\"{v} dot quantized:\", get_dot_similarity(target, vsa.get_vector([v]), quantized=False))\n",
    "print(f\"{v} dot expand:\", torch.matmul(target.type(torch.float32), vsa.get_vector([v]).type(torch.float32)))\n"
   ]
  },
  {
   "cell_type": "code",
   "execution_count": null,
   "metadata": {},
   "outputs": [],
   "source": []
  },
  {
   "cell_type": "code",
   "execution_count": null,
   "id": "0b64c82e",
   "metadata": {},
   "outputs": [],
   "source": [
    "merge_biases(model)\n",
    "remove_biases(model)\n",
    "test(model, dl, max_iter=100)"
   ]
  },
  {
   "cell_type": "code",
   "execution_count": null,
   "id": "304bf363",
   "metadata": {},
   "outputs": [],
   "source": [
    "stop_profiling = register_activation_profiling_hooks(model)\n",
    "test(model, dl, max_iter=100)\n",
    "stop_profiling()"
   ]
  },
  {
   "cell_type": "code",
   "execution_count": null,
   "id": "64035438",
   "metadata": {},
   "outputs": [],
   "source": [
    "quantize_layer_weights(model)\n",
    "quantize_activations(model)\n",
    "quantize_bottleneck_layers(model)\n",
    "quantize_averaging_layer(model)\n",
    "quantize_layer_biases(model)"
   ]
  },
  {
   "cell_type": "code",
   "execution_count": null,
   "id": "f29b2887",
   "metadata": {},
   "outputs": [],
   "source": [
    "test(model, dl, max_iter=100, quantized=True)"
   ]
  },
  {
   "cell_type": "code",
   "execution_count": null,
   "id": "10c5996b",
   "metadata": {},
   "outputs": [],
   "source": [
    "for c in model.model.modules():\n",
    "    print(c)"
   ]
  },
  {
   "cell_type": "code",
   "execution_count": null,
   "id": "74d28d6e",
   "metadata": {},
   "outputs": [],
   "source": [
    "import os\n",
    "import torch\n",
    "from models.nn_non_decomposed import MultiConceptNonDecomposed\n",
    "from tools.model_quantization import profile_model\n",
    "from tools.dump import generate_model_header, generate_actions\n",
    "from datasets import get_test_data\n",
    "\n",
    "root = \"./tests/HARDWARE-1024dim-256fd-3x-3y-7color/algo1\"\n",
    "pt = os.path.join(root, \"model_weights_3objs_128batch_20epoch_300000samples_0.0485loss_10-14-21-53.pt\")\n",
    "device = \"cuda\" if torch.cuda.is_available() else \"cpu\"\n",
    "model = MultiConceptNonDecomposed(dim=1024, device=device)\n",
    "model.eval()\n",
    "checkpoint = torch.load(pt, map_location=device)\n",
    "model.load_state_dict(checkpoint)\n",
    "dl = get_test_data(root, shuffle=True, num_samples=300, max_num_objects=3)\n",
    "profile_model(model, dl)\n",
    "generate_model_header(model, gemmini_dim=16)\n",
    "generate_actions(model)"
   ]
  },
  {
   "cell_type": "code",
   "execution_count": null,
   "id": "e553a4f0",
   "metadata": {},
   "outputs": [],
   "source": []
  }
 ],
 "metadata": {
  "kernelspec": {
   "display_name": "Python 3 (ipykernel)",
   "language": "python",
   "name": "python3"
  },
  "language_info": {
   "codemirror_mode": {
    "name": "ipython",
    "version": 3
   },
   "file_extension": ".py",
   "mimetype": "text/x-python",
   "name": "python",
   "nbconvert_exporter": "python",
   "pygments_lexer": "ipython3",
   "version": "3.9.6"
  }
 },
 "nbformat": 4,
 "nbformat_minor": 5
}
