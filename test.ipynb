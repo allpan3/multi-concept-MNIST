{
 "cells": [
  {
   "cell_type": "code",
   "execution_count": null,
   "id": "00221b5a-4dfe-4dd2-9214-1737573e1b30",
   "metadata": {},
   "outputs": [],
   "source": [
    "%load_ext autoreload\n",
    "%autoreload 2\n",
    "%matplotlib inline"
   ]
  },
  {
   "cell_type": "code",
   "execution_count": null,
   "id": "730d4f9d",
   "metadata": {},
   "outputs": [],
   "source": [
    "from main import get_vsa, get_similarity, get_test_data\n",
    "import matplotlib.pyplot as plt\n",
    "\n",
    "device = 'cuda'\n",
    "vsa = get_vsa(device)\n",
    "v1 = vsa.get_vector([(1,1,5,6),(2,0,2,5),(1,2,0,9)], quantize=True)\n",
    "print(get_similarity(v1, vsa.get_vector((2,0,2,3)), True))\n",
    "print(get_similarity(v1, vsa.get_vector((2,0,2,5)), True))\n",
    "dl = get_test_data(vsa)\n",
    "plt.imshow(dl.dataset[226][0])"
   ]
  }
 ],
 "metadata": {
  "kernelspec": {
   "display_name": "Python 3 (ipykernel)",
   "language": "python",
   "name": "python3"
  },
  "language_info": {
   "codemirror_mode": {
    "name": "ipython",
    "version": 3
   },
   "file_extension": ".py",
   "mimetype": "text/x-python",
   "name": "python",
   "nbconvert_exporter": "python",
   "pygments_lexer": "ipython3",
   "version": "3.9.2"
  }
 },
 "nbformat": 4,
 "nbformat_minor": 5
}
