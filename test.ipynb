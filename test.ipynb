{
 "cells": [
  {
   "cell_type": "code",
   "execution_count": null,
   "id": "00221b5a-4dfe-4dd2-9214-1737573e1b30",
   "metadata": {},
   "outputs": [],
   "source": [
    "%load_ext autoreload\n",
    "%autoreload 2\n",
    "%matplotlib inline"
   ]
  },
  {
   "cell_type": "code",
   "execution_count": null,
   "id": "1e68493c-b6d9-4bed-ba87-f51ef6c0ae3c",
   "metadata": {},
   "outputs": [],
   "source": [
    "import matplotlib.pyplot as plt\n",
    "from main import get_dataset\n",
    "vsa, _, test_dl = get_dataset()"
   ]
  },
  {
   "cell_type": "code",
   "execution_count": null,
   "id": "47540a11",
   "metadata": {},
   "outputs": [],
   "source": [
    "plt.imshow(test_dl.dataset[24][0])"
   ]
  },
  {
   "cell_type": "code",
   "execution_count": null,
   "id": "730d4f9d",
   "metadata": {},
   "outputs": [],
   "source": [
    "import torch\n",
    "a = torch.tensor([0.1, 1.1, 1.5, -0.2, -0.9, -1.2, 0])\n",
    "a[a > 1] = a[a > 1].round()\n",
    "a[a < -1] = a[a < -1].round()\n",
    "a[a > 0] = a[a>0].ceil()\n",
    "a[a <= 0] = a[a<=0].floor()\n",
    "a = a.type(torch.int8)"
   ]
  },
  {
   "cell_type": "code",
   "execution_count": null,
   "id": "8a1beeaa-5248-489d-b74d-059e0eecf270",
   "metadata": {},
   "outputs": [],
   "source": [
    "from main import factorization, gen_init_estimates, get_model_loss_optimizer\n",
    "import torch\n",
    "from vsa import Resonator\n",
    "from colorama import Fore\n",
    "import matplotlib.pyplot as plt\n",
    "VERBOSE = 2\n",
    "\n",
    "DIM = 2000\n",
    "MAX_NUM_OBJECTS = 2\n",
    "NUM_POS_X = 3\n",
    "NUM_POS_Y = 3\n",
    "NUM_COLOR = 3\n",
    "# Train\n",
    "TRAIN_EPOCH = 75\n",
    "TRAIN_BATCH_SIZE = 128\n",
    "NUM_TRAIN_SAMPLES = 70000\n",
    "# Test\n",
    "TEST_BATCH_SIZE = 1\n",
    "NUM_TEST_SAMPLES = 300\n",
    "# Resonator\n",
    "NORMALIZE = True\n",
    "ACTIVATION = \"NONE\" # \"NONE\", \"ABS\", \"NONNEG\n",
    "RESONATOR_TYPE = \"SEQUENTIAL\" # \"SEQUENTIAL\", \"CONCURRENT\"\n",
    "NUM_ITERATIONS = 100\n",
    "\n",
    "data_dir = f\"./data/{DIM}dim-{NUM_POS_X}x-{NUM_POS_Y}y-{NUM_COLOR}color\""
   ]
  },
  {
   "cell_type": "code",
   "execution_count": null,
   "id": "d8153f69",
   "metadata": {},
   "outputs": [],
   "source": [
    "import torchhd as hd\n",
    "\n",
    "device = \"cuda\" if torch.cuda.is_available() else \"cpu\"\n",
    "vsa, train_dl, test_dl = get_dataset(device)\n",
    "checkpoint = \"data/2000dim-3x-3y-3color/model_weights_128batch_75epoch_70000samples_09-03-03-38.pt\"\n",
    "model, loss_fn, optimizer = get_model_loss_optimizer()\n",
    "model.load_state_dict(torch.load(checkpoint))\n",
    "\n",
    "resonator_network = Resonator(vsa, type=RESONATOR_TYPE, norm=NORMALIZE, activation=ACTIVATION, iterations=NUM_ITERATIONS, device=device)\n",
    "init_estimates = gen_init_estimates(vsa.codebooks, TEST_BATCH_SIZE)\n",
    "\n",
    "model.eval()\n",
    "\n",
    "n = 75\n",
    "image = test_dl.dataset.data[n]\n",
    "label = test_dl.dataset.labels[n]\n",
    "target = test_dl.dataset.targets[n]\n",
    "\n",
    "image = image.to(device)\n",
    "image_nchw = (image.type(torch.float32)/255).permute(2,0,1).unsqueeze(0)\n",
    "infer_result = model(image_nchw).round().type(torch.int8)\n",
    "\n",
    "incorrect_count = [0] * MAX_NUM_OBJECTS\n",
    "unconverged = [[0,0] for _ in range(MAX_NUM_OBJECTS)]    # [correct, incorrect]\n",
    "\n",
    "# Factorization\n",
    "outcomes, convergence = factorization(vsa, resonator_network, infer_result, init_estimates)\n",
    "\n",
    "\n",
    "incorrect = False\n",
    "message = \"\"\n",
    "\n",
    "i = 0\n",
    "if NORMALIZE:\n",
    "    infer_result[i] = resonator_network.normalize(infer_result[i])\n",
    "\n",
    "print(infer_result[i].tolist())\n",
    "# Sample: multiple objects\n",
    "for j in range(len(label)):\n",
    "    # Incorrect if one object is not detected \n",
    "    # For n objects, only check the first n results\n",
    "    if (label[j] not in outcomes[i][0: len(label)]):\n",
    "        message += Fore.RED + \"Object {} is not detected.\".format(label[j]) + Fore.RESET + \"\\n\"\n",
    "        incorrect = True\n",
    "        unconverged[len(label)-1][1] += 1 if convergence[i][j] == NUM_ITERATIONS-1 else 0\n",
    "    else:\n",
    "        message += \"Object {} is correctly detected.\".format(label[j]) + \"\\n\"\n",
    "        unconverged[len(label)-1][0] += 1 if convergence[i][j] == NUM_ITERATIONS-1 else 0\n",
    "\n",
    "if incorrect:\n",
    "    incorrect_count[len(label)-1] += 1 if incorrect else 0\n",
    "    if (VERBOSE >= 1):\n",
    "        print(Fore.BLUE + f\"Test {n} Failed:      Convergence = {convergence[i]}\" + Fore.RESET)\n",
    "        print(\"Inference result similarity = {:.4f}\".format(hd.cosine_similarity(infer_result[i], target).item()))\n",
    "        print(message[:-1])\n",
    "        print(\"Outcome = {}\".format(outcomes[i][0: len(label)]))\n",
    "else:\n",
    "    if (VERBOSE >= 2):\n",
    "        print(Fore.BLUE + f\"Test {n} Passed:      Convergence = {convergence[i]}\" + Fore.RESET)\n",
    "        print(\"Inference result similarity = {:.4f}\".format(hd.cosine_similarity(infer_result[i], target).item()))\n",
    "        print(message[:-1])\n",
    "n += 1\n"
   ]
  }
 ],
 "metadata": {
  "kernelspec": {
   "display_name": "Python 3 (ipykernel)",
   "language": "python",
   "name": "python3"
  },
  "language_info": {
   "codemirror_mode": {
    "name": "ipython",
    "version": 3
   },
   "file_extension": ".py",
   "mimetype": "text/x-python",
   "name": "python",
   "nbconvert_exporter": "python",
   "pygments_lexer": "ipython3",
   "version": "3.9.2"
  }
 },
 "nbformat": 4,
 "nbformat_minor": 5
}
