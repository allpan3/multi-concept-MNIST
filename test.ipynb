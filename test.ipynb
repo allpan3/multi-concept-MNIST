{
 "cells": [
  {
   "cell_type": "code",
   "execution_count": null,
   "id": "00221b5a-4dfe-4dd2-9214-1737573e1b30",
   "metadata": {},
   "outputs": [],
   "source": [
    "%load_ext autoreload\n",
    "%autoreload 2\n",
    "%matplotlib inline"
   ]
  },
  {
   "cell_type": "code",
   "execution_count": null,
   "id": "730d4f9d",
   "metadata": {},
   "outputs": [],
   "source": [
    "# from main import get_vsa, get_similarity, get_test_data\n",
    "# import matplotlib.pyplot as plt\n",
    "\n",
    "# device = 'cuda'\n",
    "# vsa = get_vsa(device)\n",
    "# v1 = vsa.get_vector([(1,1,5,6),(2,0,2,5),(1,2,0,9)], quantize=True)\n",
    "# print(get_similarity(v1, vsa.get_vector((2,0,2,3)), True))\n",
    "# print(get_similarity(v1, vsa.get_vector((2,0,2,5)), True))\n",
    "# dl = get_test_data(vsa)\n",
    "# plt.imshow(dl.dataset[226][0])"
   ]
  },
  {
   "cell_type": "code",
   "execution_count": 2,
   "id": "a72e8eab",
   "metadata": {},
   "outputs": [
    {
     "name": "stdout",
     "output_type": "stream",
     "text": [
      "test 1 obj 100 dataset exists, loading...\n",
      "test 2 obj 100 dataset exists, loading...\n",
      "test 3 obj 100 dataset exists, loading...\n",
      "tensor([[ 0.9853, -0.9119,  0.9610,  ..., -1.0568,  1.0321, -0.9299]],\n",
      "       grad_fn=<AddmmBackward0>)\n",
      "tensor([[ 1., -1.,  1.,  ..., -1.,  1., -1.]])\n",
      "0.9905401928590076\n",
      "0.05127018747510075\n"
     ]
    }
   ],
   "source": [
    "from tools.model_quantization import *\n",
    "from datasets import get_test_data\n",
    "from models.nn_non_decomposed import MultiConceptNonDecomposed\n",
    "import torch\n",
    "import os.path\n",
    "\n",
    "root = \"./tests/HARDWARE-1024dim-256fd-3x-3y-7color/algo1\"\n",
    "# pt = os.path.join(root, \"model_weights_3objs_128batch_20epoch_300000samples_0.0485loss_10-14-21-53.pt\")\n",
    "pt = \"tests/HARDWARE-1024dim-256fd-3x-3y-7color/algo1/model_weights_3objs_128batch_20epoch_300000samples_0.0485loss_10-14-21-53.pt\"\n",
    "device = \"cuda\" if torch.cuda.is_available() else \"cpu\"\n",
    "model = MultiConceptNonDecomposed(dim=1024, device=device)\n",
    "model.eval()\n",
    "checkpoint = torch.load(pt, map_location=device)\n",
    "model.load_state_dict(checkpoint)\n",
    "\n",
    "dl = get_test_data(root, shuffle=True, num_samples=300, max_num_objects=3)\n",
    "test(model, dl, max_iter=100)\n"
   ]
  },
  {
   "cell_type": "code",
   "execution_count": 3,
   "id": "0b64c82e",
   "metadata": {},
   "outputs": [
    {
     "name": "stdout",
     "output_type": "stream",
     "text": [
      "tensor([[ 0.9411,  0.9920, -1.0112,  ..., -0.9237,  1.0509, -1.0759]],\n",
      "       grad_fn=<AddmmBackward0>)\n",
      "tensor([[ 1.,  1., -1.,  ..., -1.,  1., -1.]])\n",
      "0.9937522541178335\n",
      "0.037875847927857156\n"
     ]
    }
   ],
   "source": [
    "merge_biases(model)\n",
    "remove_biases(model)\n",
    "test(model, dl, max_iter=100)"
   ]
  },
  {
   "cell_type": "code",
   "execution_count": null,
   "id": "304bf363",
   "metadata": {},
   "outputs": [],
   "source": [
    "stop_profiling = register_activation_profiling_hooks(model)\n",
    "test(model, dl, max_iter=100)\n",
    "stop_profiling()"
   ]
  },
  {
   "cell_type": "code",
   "execution_count": null,
   "id": "64035438",
   "metadata": {},
   "outputs": [],
   "source": [
    "quantize_layer_weights(model)\n",
    "quantize_activations(model)\n",
    "quantize_bottleneck_layers(model)\n",
    "quantize_averaging_layer(model)\n",
    "quantize_layer_biases(model)"
   ]
  },
  {
   "cell_type": "code",
   "execution_count": null,
   "id": "f29b2887",
   "metadata": {},
   "outputs": [],
   "source": [
    "test(model, dl, max_iter=100, quantized=True)"
   ]
  },
  {
   "cell_type": "code",
   "execution_count": null,
   "id": "10c5996b",
   "metadata": {},
   "outputs": [],
   "source": [
    "for c in model.model.modules():\n",
    "    print(c)"
   ]
  },
  {
   "cell_type": "code",
   "execution_count": null,
   "id": "74d28d6e",
   "metadata": {},
   "outputs": [],
   "source": [
    "import os\n",
    "import torch\n",
    "from models.nn_non_decomposed import MultiConceptNonDecomposed\n",
    "from tools.model_quantization import profile_model\n",
    "from tools.dump import generate_model_header, generate_actions\n",
    "from datasets import get_test_data\n",
    "\n",
    "root = \"./tests/HARDWARE-1024dim-256fd-3x-3y-7color/algo1\"\n",
    "pt = os.path.join(root, \"model_weights_3objs_128batch_20epoch_300000samples_0.0485loss_10-14-21-53.pt\")\n",
    "device = \"cuda\" if torch.cuda.is_available() else \"cpu\"\n",
    "model = MultiConceptNonDecomposed(dim=1024, device=device)\n",
    "model.eval()\n",
    "checkpoint = torch.load(pt, map_location=device)\n",
    "model.load_state_dict(checkpoint)\n",
    "dl = get_test_data(root, shuffle=True, num_samples=300, max_num_objects=3)\n",
    "profile_model(model, dl)\n",
    "generate_model_header(model, gemmini_dim=16)\n",
    "generate_actions(model)"
   ]
  },
  {
   "cell_type": "code",
   "execution_count": null,
   "id": "e553a4f0",
   "metadata": {},
   "outputs": [],
   "source": []
  }
 ],
 "metadata": {
  "kernelspec": {
   "display_name": "Python 3 (ipykernel)",
   "language": "python",
   "name": "python3"
  },
  "language_info": {
   "codemirror_mode": {
    "name": "ipython",
    "version": 3
   },
   "file_extension": ".py",
   "mimetype": "text/x-python",
   "name": "python",
   "nbconvert_exporter": "python",
   "pygments_lexer": "ipython3",
   "version": "3.8.15"
  }
 },
 "nbformat": 4,
 "nbformat_minor": 5
}
